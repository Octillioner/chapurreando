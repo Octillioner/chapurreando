{
 "cells": [
  {
   "cell_type": "code",
   "execution_count": 11,
   "metadata": {},
   "outputs": [
    {
     "name": "stdout",
     "output_type": "stream",
     "text": [
      "Has elegido: papel\n",
      "La computadora eligió: piedra\n",
      "Ganaste\n",
      "Puntos ganados por la computadora: 0\n",
      "Puntos ganados por el jugador: 1\n"
     ]
    }
   ],
   "source": [
    "import random\n",
    "\n",
    "#posibles opciones\n",
    "opciones = [\"piedra\", \"papel\", \"tijeras\"]\n",
    "\n",
    "#contadores de puntos\n",
    "\n",
    "counter_jugador = 0\n",
    "counter_computadora = 0\n",
    "\n",
    "#elección del jugador:\n",
    "while True:\n",
    "    eleccion_jugador = input(\"Elige entre piedra, papel o tijeras: \")\n",
    "\n",
    "     #verificamos si la entrada es válida\n",
    "    if eleccion_jugador in opciones:\n",
    "        print(f\"Has elegido: {eleccion_jugador}\")\n",
    "        break      # salimos del bucle si la entrada es válida\n",
    "    else:\n",
    "        print(\"Entrada no válida. Por favor elige entre piedra, papel o tijeras\")\n",
    "\n",
    "#elección de la computadora\n",
    "eleccion_computadora = random.choice(opciones)\n",
    "print(f\"La computadora eligió: {eleccion_computadora}\")\n",
    "\n",
    "#comparación de las elecciones\n",
    "\n",
    "if eleccion_jugador == eleccion_computadora:\n",
    "    print(\"Empate\")\n",
    "elif (eleccion_jugador == \"piedra\" and eleccion_computadora == \"tijeras\") or \\\n",
    "     (eleccion_jugador == \"tijeras\" and eleccion_computadora == \"papel\") or \\\n",
    "     (eleccion_jugador == \"papel\" and eleccion_computadora == \"piedra\"):\n",
    "    print(\"Ganaste\")\n",
    "    counter_jugador += 1\n",
    "else:\n",
    "    print(\"Perdiste\")\n",
    "    counter_computadora += 1\n",
    "\n",
    "\n",
    "\n",
    "print(f\"Puntos ganados por la computadora: {counter_computadora}\")\n",
    "print(f\"Puntos ganados por el jugador: {counter_jugador}\")"
   ]
  }
 ],
 "metadata": {
  "kernelspec": {
   "display_name": "Python 3",
   "language": "python",
   "name": "python3"
  },
  "language_info": {
   "codemirror_mode": {
    "name": "ipython",
    "version": 3
   },
   "file_extension": ".py",
   "mimetype": "text/x-python",
   "name": "python",
   "nbconvert_exporter": "python",
   "pygments_lexer": "ipython3",
   "version": "3.12.1"
  }
 },
 "nbformat": 4,
 "nbformat_minor": 2
}
