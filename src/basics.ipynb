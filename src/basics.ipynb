{
 "cells": [
  {
   "cell_type": "code",
   "execution_count": 6,
   "metadata": {},
   "outputs": [
    {
     "name": "stdout",
     "output_type": "stream",
     "text": [
      "0\n"
     ]
    }
   ],
   "source": [
    "print(10%2)"
   ]
  },
  {
   "cell_type": "code",
   "execution_count": 7,
   "metadata": {},
   "outputs": [
    {
     "name": "stdout",
     "output_type": "stream",
     "text": [
      "Hola Hola Hola Hola Hola \n"
     ]
    }
   ],
   "source": [
    "my_float = 2.5 * 2\n",
    "print(\"Hola \" * int(my_float))"
   ]
  },
  {
   "cell_type": "code",
   "execution_count": 9,
   "metadata": {},
   "outputs": [
    {
     "name": "stdout",
     "output_type": "stream",
     "text": [
      "False\n",
      "True\n",
      "False\n",
      "True\n",
      "True\n",
      "True\n",
      "True\n"
     ]
    }
   ],
   "source": [
    "print(\"Hola\" > \"Python\")\n",
    "print(\"Hola\" < \"Python\")\n",
    "print(\"aaaa\" >= \"abaa\")  # Ordenación alfabética por ASCII\n",
    "print(len(\"aaaa\") >= len(\"abaa\"))  # Cuenta caracteres\n",
    "print(\"Hola\" <= \"Python\")\n",
    "print(\"Hola\" == \"Hola\")\n",
    "print(\"Hola\" != \"Python\")"
   ]
  },
  {
   "cell_type": "code",
   "execution_count": 1,
   "metadata": {},
   "outputs": [
    {
     "name": "stdout",
     "output_type": "stream",
     "text": [
      "Este es un String\n",
      "con salto de línea\n"
     ]
    }
   ],
   "source": [
    "my_new_line_string = \"Este es un String\\ncon salto de línea\"\n",
    "print(my_new_line_string)"
   ]
  },
  {
   "cell_type": "code",
   "execution_count": 19,
   "metadata": {},
   "outputs": [
    {
     "name": "stdout",
     "output_type": "stream",
     "text": [
      "\tEste es un String con tabulación\n"
     ]
    }
   ],
   "source": [
    "my_tab_string = \"\\tEste es un String con tabulación\"\n",
    "print(my_tab_string)"
   ]
  },
  {
   "cell_type": "code",
   "execution_count": 21,
   "metadata": {},
   "outputs": [],
   "source": [
    "name, surname, age = \"Brais\", \"Moure\", 35\n"
   ]
  },
  {
   "cell_type": "code",
   "execution_count": 22,
   "metadata": {},
   "outputs": [
    {
     "name": "stdout",
     "output_type": "stream",
     "text": [
      "Mi nombre es Brais Moure y mi edad es 35\n"
     ]
    }
   ],
   "source": [
    "print(f\"Mi nombre es {name} {surname} y mi edad es {age}\")\n"
   ]
  },
  {
   "cell_type": "code",
   "execution_count": 23,
   "metadata": {},
   "outputs": [
    {
     "name": "stdout",
     "output_type": "stream",
     "text": [
      "Mi nombre es Brais Moure y mi edad es 35\n"
     ]
    }
   ],
   "source": [
    "print(\"Mi nombre es {} {} y mi edad es {}\".format(name, surname, age))\n"
   ]
  },
  {
   "cell_type": "code",
   "execution_count": 24,
   "metadata": {},
   "outputs": [
    {
     "name": "stdout",
     "output_type": "stream",
     "text": [
      "p\n",
      "o\n"
     ]
    }
   ],
   "source": [
    "language = \"python\"\n",
    "a, b, c, d, e, f = language\n",
    "print(a)\n",
    "print(e)"
   ]
  },
  {
   "cell_type": "code",
   "execution_count": 25,
   "metadata": {},
   "outputs": [
    {
     "name": "stdout",
     "output_type": "stream",
     "text": [
      "Python\n"
     ]
    }
   ],
   "source": [
    "print(language.capitalize())\n"
   ]
  },
  {
   "cell_type": "code",
   "execution_count": 26,
   "metadata": {},
   "outputs": [
    {
     "name": "stdout",
     "output_type": "stream",
     "text": [
      "1\n"
     ]
    }
   ],
   "source": [
    "print(language.count(\"t\"))\n"
   ]
  },
  {
   "cell_type": "code",
   "execution_count": 27,
   "metadata": {},
   "outputs": [
    {
     "name": "stdout",
     "output_type": "stream",
     "text": [
      "PYTHON\n"
     ]
    }
   ],
   "source": [
    "print(language.upper())"
   ]
  },
  {
   "cell_type": "code",
   "execution_count": 28,
   "metadata": {},
   "outputs": [
    {
     "name": "stdout",
     "output_type": "stream",
     "text": [
      "False\n"
     ]
    }
   ],
   "source": [
    "print(language.isnumeric())\n"
   ]
  },
  {
   "cell_type": "code",
   "execution_count": 30,
   "metadata": {},
   "outputs": [
    {
     "name": "stdout",
     "output_type": "stream",
     "text": [
      "True\n"
     ]
    }
   ],
   "source": [
    "print(language.startswith(\"py\"))\n"
   ]
  },
  {
   "cell_type": "code",
   "execution_count": 31,
   "metadata": {},
   "outputs": [
    {
     "name": "stdout",
     "output_type": "stream",
     "text": [
      "python\n"
     ]
    }
   ],
   "source": [
    "print(language.lower())\n"
   ]
  },
  {
   "cell_type": "code",
   "execution_count": 36,
   "metadata": {},
   "outputs": [
    {
     "name": "stdout",
     "output_type": "stream",
     "text": [
      "Nombre\n",
      "El bucle for para el diccionario ha finalizado\n",
      "Apellido\n",
      "El bucle for para el diccionario ha finalizado\n",
      "Edad\n"
     ]
    }
   ],
   "source": [
    "my_dict = {\"Nombre\": \"Brais\", \"Apellido\": \"Moure\", \"Edad\": 35, 1: \"Python\"}\n",
    "\n",
    "for element in my_dict:\n",
    "    print(element)\n",
    "    if element == \"Edad\":\n",
    "        break\n",
    "    else:\n",
    "        print(\"El bucle for para el diccionario ha finalizado\")"
   ]
  },
  {
   "cell_type": "code",
   "execution_count": 2,
   "metadata": {},
   "outputs": [],
   "source": [
    "my_dict = {\n",
    "    \"Nombre\": \"Brais\",\n",
    "    \"Apellido\": \"Moure\",\n",
    "    \"Edad\": 35,\n",
    "    \"Lenguajes\": {\"Python\", \"Swift\", \"Kotlin\"},\n",
    "    1: 1.77\n",
    "}"
   ]
  },
  {
   "cell_type": "code",
   "execution_count": 3,
   "metadata": {},
   "outputs": [
    {
     "name": "stdout",
     "output_type": "stream",
     "text": [
      "5\n"
     ]
    }
   ],
   "source": [
    "print(len(my_dict))"
   ]
  },
  {
   "cell_type": "code",
   "execution_count": 4,
   "metadata": {},
   "outputs": [
    {
     "name": "stdout",
     "output_type": "stream",
     "text": [
      "1.77\n",
      "Brais\n"
     ]
    }
   ],
   "source": [
    "print(my_dict[1])\n",
    "print(my_dict[\"Nombre\"])"
   ]
  },
  {
   "cell_type": "code",
   "execution_count": 40,
   "metadata": {},
   "outputs": [
    {
     "name": "stdout",
     "output_type": "stream",
     "text": [
      "False\n",
      "True\n"
     ]
    }
   ],
   "source": [
    "print(\"Moure\" in my_dict)\n",
    "print(\"Apellido\" in my_dict)"
   ]
  },
  {
   "cell_type": "code",
   "execution_count": 5,
   "metadata": {},
   "outputs": [
    {
     "name": "stdout",
     "output_type": "stream",
     "text": [
      "{'Nombre': 'Brais', 'Apellido': 'Moure', 'Edad': 35, 'Lenguajes': {'Swift', 'Python', 'Kotlin'}, 1: 1.77, 'Calle': 'Calle MoureDev'}\n"
     ]
    }
   ],
   "source": [
    "my_dict[\"Calle\"] = \"Calle MoureDev\"\n",
    "print(my_dict)"
   ]
  },
  {
   "cell_type": "code",
   "execution_count": 6,
   "metadata": {},
   "outputs": [
    {
     "name": "stdout",
     "output_type": "stream",
     "text": [
      "Pedro\n"
     ]
    }
   ],
   "source": [
    "my_dict[\"Nombre\"] = \"Pedro\"\n",
    "print(my_dict[\"Nombre\"])"
   ]
  },
  {
   "cell_type": "code",
   "execution_count": 7,
   "metadata": {},
   "outputs": [
    {
     "name": "stdout",
     "output_type": "stream",
     "text": [
      "{'Nombre': 'Pedro', 'Apellido': 'Moure', 'Edad': 35, 'Lenguajes': {'Swift', 'Python', 'Kotlin'}, 1: 1.77, 'Calle': 'Calle MoureDev'}\n"
     ]
    }
   ],
   "source": [
    "print(my_dict)"
   ]
  },
  {
   "cell_type": "code",
   "execution_count": 8,
   "metadata": {},
   "outputs": [
    {
     "name": "stdout",
     "output_type": "stream",
     "text": [
      "{'Nombre': 'Pedro', 'Apellido': 'Moure', 'Edad': 35, 'Lenguajes': {'Swift', 'Python', 'Kotlin'}, 1: 1.77}\n"
     ]
    }
   ],
   "source": [
    "del my_dict[\"Calle\"]\n",
    "print(my_dict)"
   ]
  },
  {
   "cell_type": "code",
   "execution_count": 9,
   "metadata": {},
   "outputs": [
    {
     "name": "stdout",
     "output_type": "stream",
     "text": [
      "dict_items([('Nombre', 'Pedro'), ('Apellido', 'Moure'), ('Edad', 35), ('Lenguajes', {'Swift', 'Python', 'Kotlin'}), (1, 1.77)])\n"
     ]
    }
   ],
   "source": [
    "print(my_dict.items())"
   ]
  },
  {
   "cell_type": "code",
   "execution_count": 1,
   "metadata": {},
   "outputs": [
    {
     "name": "stdout",
     "output_type": "stream",
     "text": [
      "0 múltiplo de 2 y 5\n",
      "1\n",
      "2 múltiplo de 2\n",
      "3\n",
      "4 múltiplo de 2\n",
      "5 múltiplo de 5\n",
      "6 múltiplo de 2\n",
      "7\n",
      "8 múltiplo de 2\n",
      "9\n",
      "10 múltiplo de 2 y 5\n",
      "11\n",
      "12 múltiplo de 2\n",
      "13\n",
      "14 múltiplo de 2\n",
      "15 múltiplo de 5\n",
      "16 múltiplo de 2\n",
      "17\n",
      "18 múltiplo de 2\n",
      "19\n",
      "20 múltiplo de 2 y 5\n",
      "21\n",
      "22 múltiplo de 2\n",
      "23\n",
      "24 múltiplo de 2\n",
      "25 múltiplo de 5\n",
      "26 múltiplo de 2\n",
      "27\n",
      "28 múltiplo de 2\n",
      "29\n",
      "30 múltiplo de 2 y 5\n",
      "31\n",
      "32 múltiplo de 2\n",
      "33\n",
      "34 múltiplo de 2\n",
      "35 múltiplo de 5\n",
      "36 múltiplo de 2\n",
      "37\n",
      "38 múltiplo de 2\n",
      "39\n",
      "40 múltiplo de 2 y 5\n",
      "41\n",
      "42 múltiplo de 2\n",
      "43\n",
      "44 múltiplo de 2\n",
      "45 múltiplo de 5\n",
      "46 múltiplo de 2\n",
      "47\n",
      "48 múltiplo de 2\n",
      "49\n",
      "50 múltiplo de 2 y 5\n",
      "51\n",
      "52 múltiplo de 2\n",
      "53\n",
      "54 múltiplo de 2\n",
      "55 múltiplo de 5\n",
      "56 múltiplo de 2\n",
      "57\n",
      "58 múltiplo de 2\n",
      "59\n",
      "60 múltiplo de 2 y 5\n",
      "61\n",
      "62 múltiplo de 2\n",
      "63\n",
      "64 múltiplo de 2\n",
      "65 múltiplo de 5\n",
      "66 múltiplo de 2\n",
      "67\n",
      "68 múltiplo de 2\n",
      "69\n",
      "70 múltiplo de 2 y 5\n",
      "71\n",
      "72 múltiplo de 2\n",
      "73\n",
      "74 múltiplo de 2\n",
      "75 múltiplo de 5\n",
      "76 múltiplo de 2\n",
      "77\n",
      "78 múltiplo de 2\n",
      "79\n",
      "80 múltiplo de 2 y 5\n",
      "81\n",
      "82 múltiplo de 2\n",
      "83\n",
      "84 múltiplo de 2\n",
      "85 múltiplo de 5\n",
      "86 múltiplo de 2\n",
      "87\n",
      "88 múltiplo de 2\n",
      "89\n",
      "90 múltiplo de 2 y 5\n",
      "91\n",
      "92 múltiplo de 2\n",
      "93\n",
      "94 múltiplo de 2\n",
      "95 múltiplo de 5\n",
      "96 múltiplo de 2\n",
      "97\n",
      "98 múltiplo de 2\n",
      "99\n",
      "100 múltiplo de 2 y 5\n"
     ]
    }
   ],
   "source": [
    "lista_n = range(101)\n",
    "\n",
    "def ramayama(lista_n):\n",
    "    for i in lista_n:\n",
    "        if i % 2 == 0 and i % 5 == 0:\n",
    "            print(str(i) +\" \"+ \"múltiplo de 2 y 5\")\n",
    "        elif i % 2 == 0:\n",
    "            print(str(i) +\" \"+ \"múltiplo de 2\")\n",
    "        elif i % 5 == 0:\n",
    "            print(str(i) +\" \"+ \"múltiplo de 5\")\n",
    "        else:\n",
    "            print(i)\n",
    "\n",
    "ramayama(lista_n)\n"
   ]
  },
  {
   "cell_type": "code",
   "execution_count": 5,
   "metadata": {},
   "outputs": [],
   "source": [
    "my_condition = True\n",
    "my_condition = False\n",
    "\n",
    "if my_condition:  # Es lo mismo que if my_condition == True:\n",
    "    print(\"Se ejecuta la condición del if\")"
   ]
  },
  {
   "cell_type": "code",
   "execution_count": 1,
   "metadata": {},
   "outputs": [
    {
     "name": "stdout",
     "output_type": "stream",
     "text": [
      "Es igual a 25\n"
     ]
    }
   ],
   "source": [
    "my_condition = 5 * 5\n",
    "\n",
    "if my_condition > 10 and my_condition < 20:\n",
    "    print(\"Es mayor que 10 y menor que 20\")\n",
    "elif my_condition == 25:\n",
    "    print(\"Es igual a 25\")\n",
    "else:\n",
    "    print(\"Es menor o igual que 10 o mayor o igual que 20 o distinto de 25\")\n",
    "\n"
   ]
  },
  {
   "cell_type": "code",
   "execution_count": 12,
   "metadata": {},
   "outputs": [
    {
     "name": "stdout",
     "output_type": "stream",
     "text": [
      "Mi cadena de texto es vacía\n"
     ]
    }
   ],
   "source": [
    "my_string = \"\"\n",
    "\n",
    "if not my_string:\n",
    "    print(\"Mi cadena de texto es vacía\")\n",
    "\n",
    "if my_string == \"Mi cadena de textoooooo\":\n",
    "    print(\"Estas cadenas de texto coinciden\")"
   ]
  },
  {
   "cell_type": "code",
   "execution_count": 15,
   "metadata": {},
   "outputs": [
    {
     "name": "stdout",
     "output_type": "stream",
     "text": [
      "0\n",
      "1\n",
      "2\n",
      "3\n",
      "4\n",
      "5\n",
      "6\n",
      "7\n",
      "8\n",
      "9\n",
      "Mi condición es mayor o igual que 10\n"
     ]
    }
   ],
   "source": [
    "my_condition = 0\n",
    "\n",
    "while my_condition < 10:\n",
    "    print(my_condition)\n",
    "    my_condition += 1\n",
    "else:  # Es opcional\n",
    "    print(\"Mi condición es mayor o igual que 10\")"
   ]
  },
  {
   "cell_type": "code",
   "execution_count": 21,
   "metadata": {},
   "outputs": [
    {
     "name": "stdout",
     "output_type": "stream",
     "text": [
      "1\n",
      "2\n",
      "3\n",
      "4\n",
      "5\n",
      "6\n",
      "7\n",
      "8\n",
      "9\n",
      "10\n",
      "11\n",
      "12\n",
      "13\n",
      "14\n",
      "Se detiene la ejecución\n"
     ]
    }
   ],
   "source": [
    "my_condition = 0\n",
    "\n",
    "while my_condition < 20:\n",
    "    my_condition += 1\n",
    "    if my_condition == 15:\n",
    "        print(\"Se detiene la ejecución\")\n",
    "        break\n",
    "    print(my_condition)"
   ]
  },
  {
   "cell_type": "code",
   "execution_count": 24,
   "metadata": {},
   "outputs": [
    {
     "name": "stdout",
     "output_type": "stream",
     "text": [
      "35\n",
      "30\n",
      "30\n"
     ]
    }
   ],
   "source": [
    "# For\n",
    "\n",
    "my_list = [35, 24, 62, 52, 30, 30, 17]\n",
    "\n",
    "for element in my_list:\n",
    "    if element % 5 == 0:\n",
    "        print(element)"
   ]
  },
  {
   "cell_type": "code",
   "execution_count": 25,
   "metadata": {},
   "outputs": [
    {
     "name": "stdout",
     "output_type": "stream",
     "text": [
      "Esto es una función\n"
     ]
    }
   ],
   "source": [
    "def my_function():\n",
    "    print(\"Esto es una función\")\n",
    "\n",
    "my_function()"
   ]
  },
  {
   "cell_type": "code",
   "execution_count": 27,
   "metadata": {},
   "outputs": [
    {
     "name": "stdout",
     "output_type": "stream",
     "text": [
      "12\n"
     ]
    }
   ],
   "source": [
    "def sum_two_values(first_value, second_value):\n",
    "    print(first_value + second_value)\n",
    "\n",
    "\n",
    "sum_two_values(5, 7)"
   ]
  },
  {
   "cell_type": "code",
   "execution_count": 28,
   "metadata": {},
   "outputs": [
    {
     "name": "stdout",
     "output_type": "stream",
     "text": [
      "57\n"
     ]
    }
   ],
   "source": [
    "sum_two_values(\"5\", \"7\")"
   ]
  },
  {
   "cell_type": "code",
   "execution_count": 29,
   "metadata": {},
   "outputs": [],
   "source": [
    "def sum_two_values_with_return(first_value, second_value):\n",
    "    my_sum = first_value + second_value\n",
    "    return my_sum"
   ]
  },
  {
   "cell_type": "code",
   "execution_count": 31,
   "metadata": {},
   "outputs": [
    {
     "name": "stdout",
     "output_type": "stream",
     "text": [
      "15\n"
     ]
    }
   ],
   "source": [
    "my_result = sum_two_values_with_return(10, 5)\n",
    "print(my_result)"
   ]
  },
  {
   "cell_type": "code",
   "execution_count": 7,
   "metadata": {},
   "outputs": [
    {
     "name": "stdout",
     "output_type": "stream",
     "text": [
      "[1 1 1 1 1 1 1 1 1 1]\n"
     ]
    }
   ],
   "source": [
    "import numpy as np\n",
    "\n",
    "x = np.ones(10)\n",
    "x_int = x.astype(int)\n",
    "print(x_int)"
   ]
  },
  {
   "cell_type": "code",
   "execution_count": 5,
   "metadata": {},
   "outputs": [
    {
     "name": "stdout",
     "output_type": "stream",
     "text": [
      "Illo Juan\n"
     ]
    }
   ],
   "source": [
    "\n",
    "def print_name(name, surname):\n",
    "    print(f\"{name} {surname}\")\n",
    "\n",
    "\n",
    "print_name(\"Illo\", \"Juan\")"
   ]
  },
  {
   "cell_type": "markdown",
   "metadata": {},
   "source": [
    "# Clases"
   ]
  },
  {
   "cell_type": "code",
   "execution_count": 14,
   "metadata": {},
   "outputs": [
    {
     "name": "stdout",
     "output_type": "stream",
     "text": [
      "Este coche es un Seat, modelo León del año 2012\n",
      "Berlina\n",
      "Este coche es un mercedes, modelo AMG del año 2020\n",
      "mercedes es de origen alemán\n",
      "Berlina\n",
      "Este coche es un ferrari, modelo Stradale del año 2021\n",
      "ferrari es de origen italiano\n"
     ]
    }
   ],
   "source": [
    "#se define una clase\n",
    "class coche:\n",
    "    num_ruedas = 4   #atributo de clase (compartido por todas las instancias)\n",
    "\n",
    "    #constructor: se llama cuando se crea un objeto de la clase\n",
    "    def __init__(self, marca, modelo, año):\n",
    "        self.marca = marca\n",
    "        self.modelo = modelo\n",
    "        self.año = año\n",
    "    \n",
    "    #método: una función dentro de una clase\n",
    "    def info(self):\n",
    "        print(f\"Este coche es un {self.marca}, modelo {self.modelo} del año {self.año}\")\n",
    "\n",
    "    #método estático\n",
    "    @staticmethod\n",
    "    def tipo_vehículo():\n",
    "        print(\"Berlina\")\n",
    "\n",
    "#clases deriavadas\n",
    "\n",
    "class mercedes(coche):\n",
    "    def origen(self):\n",
    "        print(f\"{self.marca} es de origen alemán\")\n",
    "\n",
    "class ferrari(coche):\n",
    "    def origen(self):\n",
    "        print(f\"{self.marca} es de origen italiano\")\n",
    "\n",
    "#crear instancia\n",
    "\n",
    "mi_coche = coche(\"Seat\", \"León\", \"2012\")\n",
    "mi_coche.info()\n",
    "coche.tipo_vehículo()\n",
    "#Crear instancias de las clases derivadas\n",
    "\n",
    "mi_mercedes = mercedes(\"mercedes\", \"AMG\", \"2020\")\n",
    "mi_mercedes.info()\n",
    "mi_mercedes.origen()\n",
    "coche.tipo_vehículo()\n",
    "\n",
    "mi_ferrari= ferrari(\"ferrari\", \"Stradale\", \"2021\")\n",
    "mi_ferrari.info()\n",
    "mi_ferrari.origen()"
   ]
  }
 ],
 "metadata": {
  "kernelspec": {
   "display_name": "Python 3",
   "language": "python",
   "name": "python3"
  },
  "language_info": {
   "codemirror_mode": {
    "name": "ipython",
    "version": 3
   },
   "file_extension": ".py",
   "mimetype": "text/x-python",
   "name": "python",
   "nbconvert_exporter": "python",
   "pygments_lexer": "ipython3",
   "version": "3.12.1"
  }
 },
 "nbformat": 4,
 "nbformat_minor": 2
}
